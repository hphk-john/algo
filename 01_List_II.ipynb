{
 "cells": [
  {
   "cell_type": "markdown",
   "metadata": {},
   "source": [
    "# List II\n",
    "\n",
    "### 핵심내용\n",
    "- 2차원 리스트\n",
    "- 부분집합\n",
    "- 검색 (순차 & 이진)\n",
    "- 정렬 (선택정렬)\n",
    "\n"
   ]
  },
  {
   "cell_type": "markdown",
   "metadata": {},
   "source": [
    "## I. 2차원 리스트 \n",
    "\n",
    "### (1) 2차원 List?\n",
    "1. 1차원 List를 묶어놓은 List\n",
    "2. 2차원 이상의 다차원 List는 차원에 따라 Index를 선언\n",
    "3. 2차원 List의 선언 : 세로길이(행의 개수) & 가로길이(열의 개수)를 필요로 함"
   ]
  },
  {
   "cell_type": "code",
   "execution_count": null,
   "metadata": {},
   "outputs": [],
   "source": [
    "## 2차원 List 선언\n",
    "\n"
   ]
  },
  {
   "cell_type": "markdown",
   "metadata": {},
   "source": [
    "### (2) 2차원 List 초기화 방법"
   ]
  },
  {
   "cell_type": "code",
   "execution_count": null,
   "metadata": {},
   "outputs": [],
   "source": [
    "## 2차원 List 초기화 방법\n",
    "\n"
   ]
  },
  {
   "cell_type": "markdown",
   "metadata": {},
   "source": [
    "### (3) 2차원 List 입력 받기"
   ]
  },
  {
   "cell_type": "code",
   "execution_count": null,
   "metadata": {},
   "outputs": [],
   "source": [
    "## 예시 1\n",
    "\n"
   ]
  },
  {
   "cell_type": "code",
   "execution_count": null,
   "metadata": {},
   "outputs": [],
   "source": [
    "## 예시 2\n",
    "\n"
   ]
  },
  {
   "cell_type": "code",
   "execution_count": null,
   "metadata": {},
   "outputs": [],
   "source": [
    "## 예시 3\n",
    "\n"
   ]
  },
  {
   "cell_type": "markdown",
   "metadata": {},
   "source": [
    "### (4) 2차원 List에서 원하는 데이터의 위치 찾기"
   ]
  },
  {
   "cell_type": "code",
   "execution_count": null,
   "metadata": {},
   "outputs": [],
   "source": [
    "## 예시 1\n",
    "\n"
   ]
  },
  {
   "cell_type": "code",
   "execution_count": null,
   "metadata": {},
   "outputs": [],
   "source": [
    "## 예시 2\n",
    "\n"
   ]
  },
  {
   "cell_type": "markdown",
   "metadata": {},
   "source": [
    "### (5) 2차원 List의 순회"
   ]
  },
  {
   "cell_type": "code",
   "execution_count": null,
   "metadata": {},
   "outputs": [],
   "source": [
    "## 행 우선 순회\n",
    "\n"
   ]
  },
  {
   "cell_type": "code",
   "execution_count": null,
   "metadata": {},
   "outputs": [],
   "source": [
    "## 열 우선 순회\n",
    "\n"
   ]
  },
  {
   "cell_type": "code",
   "execution_count": null,
   "metadata": {},
   "outputs": [],
   "source": [
    "## 지그재그 순회\n",
    "\n"
   ]
  },
  {
   "cell_type": "markdown",
   "metadata": {},
   "source": [
    "### (6) 델타를 이용한 2차원 List 순회\n",
    "1. 2차 List의 한 좌표에서 **네 방향의 인접 List 요소를 탐색**할 때 사용하는 방법\n",
    "2. 델타 값은 한 좌표에서 네 방향의 좌표와 x, y의 **차이를 저장한 List로 구현**\n",
    "3. 델타 값을 이용하여 **특정 원소의 상하좌우에 위치**한 원소에 접근할 수 있음"
   ]
  },
  {
   "cell_type": "code",
   "execution_count": null,
   "metadata": {},
   "outputs": [],
   "source": [
    "# 델타를 이용한 2차원 List 순회\n",
    "\n"
   ]
  },
  {
   "cell_type": "markdown",
   "metadata": {},
   "source": [
    "### (7) 전치행렬"
   ]
  },
  {
   "cell_type": "code",
   "execution_count": null,
   "metadata": {},
   "outputs": [],
   "source": [
    "## 예시 1\n",
    "\n"
   ]
  },
  {
   "cell_type": "code",
   "execution_count": null,
   "metadata": {},
   "outputs": [],
   "source": [
    "## 예시 2\n",
    "\n"
   ]
  },
  {
   "attachments": {},
   "cell_type": "markdown",
   "metadata": {},
   "source": [
    "### 연습문제 1\n",
    "\n",
    "![ex1](img/list2_ex1.png)"
   ]
  },
  {
   "cell_type": "code",
   "execution_count": null,
   "metadata": {},
   "outputs": [],
   "source": [
    "## 연습문제 1\n",
    "\n"
   ]
  },
  {
   "cell_type": "markdown",
   "metadata": {},
   "source": [
    "## II. 부분집합\n",
    "\n",
    "### (1) 부분집합의 합 문제(sum of subsets)\n",
    "\n",
    "```python\n",
    "{-7, -3, -2, 5, 8}\n",
    "# 1. {-3, -2, 5}는 부분 집합\n",
    "# 2. (-3) + (-2) + 5 = 0\n",
    "# >>> 답은 True\n",
    "```\n",
    "\n",
    "1. 완전 검색(Exhaustive Search)\n",
    "- 해당 집합의 모든 부분 집합을 생성(Exhaustive Enumeration)한 후 각 부분 집합의 합을 계산\n",
    "- 주어진 집합의 부분 집합을 생성하는 방법\n",
    "\n",
    "### (2) 부분집합의 수\n",
    "\n",
    "- 특정 집합의 부분 집합의 총 개수\n",
    "\n",
    "  1. 집합의 원소가 n개일 때, 공집합을 포함한 부분 집합의 수는 `2 ** n` 개\n",
    "  2. 각 원소를 부분 집합에 포함시키거나 포함시키지 않는 2가지 경우를 모든 원소에 적용한 경우의 수와 같음"
   ]
  },
  {
   "cell_type": "markdown",
   "metadata": {},
   "source": [
    "### (3) 부분집합 생성하기 : Exhaustive Enumeration"
   ]
  },
  {
   "cell_type": "code",
   "execution_count": null,
   "metadata": {},
   "outputs": [],
   "source": [
    "## 부분집합 생성하기 1\n",
    "\n"
   ]
  },
  {
   "cell_type": "markdown",
   "metadata": {},
   "source": [
    "### (4) 부분집합 생성하기 : Bitmask"
   ]
  },
  {
   "cell_type": "code",
   "execution_count": null,
   "metadata": {},
   "outputs": [],
   "source": [
    "## 부분집합 생성하기 2\n",
    "\n"
   ]
  },
  {
   "cell_type": "markdown",
   "metadata": {},
   "source": [
    "## 연습문제 2\n",
    "\n",
    "> 부분집합의 합 문제 구현하기"
   ]
  },
  {
   "cell_type": "code",
   "execution_count": null,
   "metadata": {},
   "outputs": [],
   "source": [
    "## 연습문제 2 : 10개의 정수를 입력 받아 부분집합의 합이 0이 되는 부분집합이 몇개인지 계산하는 함수 powerset(arr)을 작성하세요.\n"
   ]
  },
  {
   "cell_type": "markdown",
   "metadata": {},
   "source": [
    "## III. 검색\n",
    "\n",
    "### (1) 검색(Search)\n",
    "\n",
    "1. 검색의 의미\n",
    "\n",
    "- 저장되어 있는 자료 중에서 **원하는 항목**을 찾는 작업\n",
    "    - 목적하는 **탐색키**를 가진 항목\n",
    "        - 탐색키(Search Key) : 자료를 구별하여 인식할 수 있는 키\n",
    "\n",
    "2. 검색의 종류\n",
    "\n",
    "- 순차검색\n",
    "- 이진검색\n",
    "- 인덱싱\n",
    "\n",
    "### (2) 순차 검색(Sequential Search)\n",
    "\n",
    "1. 순차 검색\n",
    "\n",
    "- 일렬로 되어 있는 자료를 순서대로 검색하는 방법\n",
    "- 배열이나 Linked List 등 순차구조로 구현된 자료구조에서 유용함\n",
    "- 구현이 쉽지만, 검색 대상이 많은 경우 수행시간의 증가로 비효율적일 수 있음"
   ]
  },
  {
   "cell_type": "code",
   "execution_count": null,
   "metadata": {},
   "outputs": [],
   "source": [
    "## 순차 검색\n",
    "\n"
   ]
  },
  {
   "cell_type": "markdown",
   "metadata": {},
   "source": [
    "### (3) 이진검색"
   ]
  },
  {
   "cell_type": "code",
   "execution_count": null,
   "metadata": {},
   "outputs": [],
   "source": [
    "## 이진 검색\n",
    "\n"
   ]
  },
  {
   "cell_type": "markdown",
   "metadata": {},
   "source": [
    "## IV. 정렬\n",
    "\n",
    "### (1) 셀렉션 알고리즘\n",
    "\n",
    "#### 1. 셀렉션 알고리즘의 의미\n",
    "\n",
    "- 저장되어 있는 자료로부터 **k번째로 큰 (혹은 작은) 원소를 찾는 방법**\n",
    "- 최소값, 최대값 혹은 중간값을 찾는 알고리즘을 의미하기도 함\n",
    "- 셀렉션 과정\n",
    " 1. 정렬 알고리즘을 이용하요 자료를 정렬\n",
    " 2. 원하는 순서에 있는 원소 가져오기\n",
    "\n",
    "#### 2. 셀렉션 알고리즘의 예시\n",
    "\n",
    "- 1번부터 k번째까지 작은 원소들을 찾아 List의 앞쪽으로 이동시키고, List의 k번째를 반환\n",
    "- k가 비교적 작을 때 유용하며 O(kn)의 수행시간을 필요로 함\n",
    "- 예시) k번째로 작은 원소를 찾는 알고리즘"
   ]
  },
  {
   "cell_type": "code",
   "execution_count": null,
   "metadata": {},
   "outputs": [],
   "source": [
    "## 셀렉션 알고리즘\n",
    "\n"
   ]
  },
  {
   "cell_type": "markdown",
   "metadata": {},
   "source": [
    "### (2) 선택정렬\n",
    "\n",
    "#### 1. 선택 정렬의 의미\n",
    "\n",
    "- 주어진 자료들 중 **가장 작은 값의 원소부터 차례대로** 선택하여 위치를 교환하는 방식\n",
    "- 셀렉션 알고리즘을 전체 자료에 적용한 것\n",
    "- 예시) 포켓볼 테이블의 공들을 차례로 가작 작은 순서대로 정렬하는 방법\n",
    "\n",
    "#### 2. 선택정렬의 정렬 과정\n",
    "\n",
    "1. 주어진 List 중에 **최소값을 찾음**\n",
    "2. 그 값을 List의 맨 앞에 위치한 값과 교환\n",
    "3. 맨 처음 위치를 제외한 나머지 List를 대상으로 위의 과정을 반복\n",
    "\n",
    "#### 3. 선택정렬의 시간 복잡도 \n",
    "\n",
    "- `O(n^2)`"
   ]
  },
  {
   "cell_type": "code",
   "execution_count": null,
   "metadata": {},
   "outputs": [],
   "source": [
    "### 선택 정렬(Selection Sort)\n",
    "\n"
   ]
  },
  {
   "attachments": {},
   "cell_type": "markdown",
   "metadata": {},
   "source": [
    "## 연습문제 3\n",
    "\n",
    "![ex3](img/list2_ex3.png)"
   ]
  },
  {
   "cell_type": "code",
   "execution_count": null,
   "metadata": {},
   "outputs": [],
   "source": [
    "## 연습문제 3\n",
    "\n"
   ]
  }
 ],
 "metadata": {
  "kernelspec": {
   "display_name": "Python 3",
   "language": "python",
   "name": "python3"
  },
  "language_info": {
   "codemirror_mode": {
    "name": "ipython",
    "version": 3
   },
   "file_extension": ".py",
   "mimetype": "text/x-python",
   "name": "python",
   "nbconvert_exporter": "python",
   "pygments_lexer": "ipython3",
   "version": "3.6.7"
  }
 },
 "nbformat": 4,
 "nbformat_minor": 2
}
